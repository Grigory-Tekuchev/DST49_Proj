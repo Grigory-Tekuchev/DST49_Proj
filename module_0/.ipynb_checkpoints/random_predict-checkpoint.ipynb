{
 "cells": [
  {
   "cell_type": "code",
   "execution_count": 30,
   "metadata": {},
   "outputs": [
    {
     "name": "stdout",
     "output_type": "stream",
     "text": [
      "Ваш алгоритм угадывает число в среднем за 5 попыток\n"
     ]
    },
    {
     "data": {
      "text/plain": [
       "5"
      ]
     },
     "execution_count": 30,
     "metadata": {},
     "output_type": "execute_result"
    }
   ],
   "source": [
    "import numpy as np\n",
    "\n",
    "def game_core_v3(number):\n",
    "    '''Сначала устанавливаем число 50 (50-51 середина списка), а потом сокращаем список \n",
    "       перемещая его границы в зависимости от того, больше это число или меньше нужного.\n",
    "       Новое число помещаем в середину сокращенного списка.\n",
    "       Функция принимает загаданное число и возвращает число попыток'''\n",
    "    predict = 50\n",
    "    lower_limit = 1\n",
    "    upper_limit = 100\n",
    "    for count in range (1,101): #реальное число попыток меньше макс значение для полного перебора\n",
    "        if number > predict:\n",
    "            lower_limit = predict + 1 #смещаем нижнюю границу диапазона возможных чисел\n",
    "            predict = int(predict + (upper_limit - predict)/2) + 1\n",
    "        elif number < predict:\n",
    "            upper_limit = predict - 1 #смещаем верхнюю границу диапазона возможных чисел\n",
    "            predict = int(predict - (predict - lower_limit)/2)\n",
    "        else: return(count) # выход из цикла, если угадали\n",
    "    \n",
    "def score_game(game_core):\n",
    "    '''Запускаем игру 1000 раз, чтобы узнать, как быстро игра угадывает число'''\n",
    "    count_ls = []\n",
    "    np.random.seed(1)  # фиксируем RANDOM SEED, чтобы эксперимент был воспроизводим!\n",
    "    random_array = np.random.randint(1,101, size=(1000))\n",
    "    for number in random_array:\n",
    "        count_ls.append(game_core(number))\n",
    "    score = int(np.mean(count_ls))\n",
    "    print(f\"Ваш алгоритм угадывает число в среднем за {score} попыток\")\n",
    "    return(score)\n",
    "\n",
    "# запускаем\n",
    "score_game(game_core_v3)"
   ]
  }
 ],
 "metadata": {
  "kernelspec": {
   "display_name": "Python 3",
   "language": "python",
   "name": "python3"
  },
  "language_info": {
   "codemirror_mode": {
    "name": "ipython",
    "version": 3
   },
   "file_extension": ".py",
   "mimetype": "text/x-python",
   "name": "python",
   "nbconvert_exporter": "python",
   "pygments_lexer": "ipython3",
   "version": "3.8.5"
  }
 },
 "nbformat": 4,
 "nbformat_minor": 4
}
